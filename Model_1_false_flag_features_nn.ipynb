{
 "cells": [
  {
   "cell_type": "code",
   "execution_count": 1,
   "id": "1eb4016e-0565-4a35-b920-1406e6991130",
   "metadata": {},
   "outputs": [],
   "source": [
    "import pandas as pd\n",
    "import sklearn\n",
    "from sklearn.model_selection import train_test_split\n",
    "import tensorflow as tf\n",
    "from tensorflow.keras.optimizers import RMSprop, Adam\n",
    "from training_functions import plot_training"
   ]
  },
  {
   "cell_type": "markdown",
   "id": "091b0488-4125-48fc-ae9c-f37dac54538f",
   "metadata": {},
   "source": [
    "# Method #1 Using false positive flags for training"
   ]
  },
  {
   "cell_type": "code",
   "execution_count": 2,
   "id": "dd052cdf-e8c8-4280-8fe4-2624ffc39987",
   "metadata": {},
   "outputs": [],
   "source": [
    "learning_data = pd.read_csv('data/learning_data.csv')"
   ]
  },
  {
   "cell_type": "code",
   "execution_count": 3,
   "id": "1fa58967-72f8-4772-942c-55f06d84c2e3",
   "metadata": {},
   "outputs": [
    {
     "name": "stdout",
     "output_type": "stream",
     "text": [
      "(5304, 4) (5304, 1)\n"
     ]
    }
   ],
   "source": [
    "# Select only the columns with false positive flags for the training data\n",
    "flags_exoplanet_data = learning_data[['koi_fpflag_nt','koi_fpflag_ss','koi_fpflag_co','koi_fpflag_ec']]\n",
    "flags_exoplanet_labels = learning_data['koi_disposition'].replace({\n",
    "    'FALSE POSITIVE':0,\n",
    "    'CONFIRMED':1\n",
    "}).to_frame() \n",
    "\n",
    "print(flags_exoplanet_data.shape, flags_exoplanet_labels.shape)"
   ]
  },
  {
   "cell_type": "code",
   "execution_count": 4,
   "id": "4081727f-664f-49af-9949-f2c61c0d9c02",
   "metadata": {},
   "outputs": [
    {
     "data": {
      "text/html": [
       "<div>\n",
       "<style scoped>\n",
       "    .dataframe tbody tr th:only-of-type {\n",
       "        vertical-align: middle;\n",
       "    }\n",
       "\n",
       "    .dataframe tbody tr th {\n",
       "        vertical-align: top;\n",
       "    }\n",
       "\n",
       "    .dataframe thead th {\n",
       "        text-align: right;\n",
       "    }\n",
       "</style>\n",
       "<table border=\"1\" class=\"dataframe\">\n",
       "  <thead>\n",
       "    <tr style=\"text-align: right;\">\n",
       "      <th></th>\n",
       "      <th>koi_fpflag_nt</th>\n",
       "      <th>koi_fpflag_ss</th>\n",
       "      <th>koi_fpflag_co</th>\n",
       "      <th>koi_fpflag_ec</th>\n",
       "    </tr>\n",
       "  </thead>\n",
       "  <tbody>\n",
       "    <tr>\n",
       "      <th>0</th>\n",
       "      <td>0</td>\n",
       "      <td>0</td>\n",
       "      <td>0</td>\n",
       "      <td>0</td>\n",
       "    </tr>\n",
       "    <tr>\n",
       "      <th>1</th>\n",
       "      <td>0</td>\n",
       "      <td>1</td>\n",
       "      <td>0</td>\n",
       "      <td>0</td>\n",
       "    </tr>\n",
       "    <tr>\n",
       "      <th>2</th>\n",
       "      <td>0</td>\n",
       "      <td>1</td>\n",
       "      <td>0</td>\n",
       "      <td>0</td>\n",
       "    </tr>\n",
       "    <tr>\n",
       "      <th>3</th>\n",
       "      <td>0</td>\n",
       "      <td>0</td>\n",
       "      <td>0</td>\n",
       "      <td>0</td>\n",
       "    </tr>\n",
       "    <tr>\n",
       "      <th>4</th>\n",
       "      <td>0</td>\n",
       "      <td>0</td>\n",
       "      <td>0</td>\n",
       "      <td>0</td>\n",
       "    </tr>\n",
       "    <tr>\n",
       "      <th>...</th>\n",
       "      <td>...</td>\n",
       "      <td>...</td>\n",
       "      <td>...</td>\n",
       "      <td>...</td>\n",
       "    </tr>\n",
       "    <tr>\n",
       "      <th>5299</th>\n",
       "      <td>0</td>\n",
       "      <td>1</td>\n",
       "      <td>0</td>\n",
       "      <td>0</td>\n",
       "    </tr>\n",
       "    <tr>\n",
       "      <th>5300</th>\n",
       "      <td>0</td>\n",
       "      <td>0</td>\n",
       "      <td>0</td>\n",
       "      <td>1</td>\n",
       "    </tr>\n",
       "    <tr>\n",
       "      <th>5301</th>\n",
       "      <td>0</td>\n",
       "      <td>1</td>\n",
       "      <td>1</td>\n",
       "      <td>0</td>\n",
       "    </tr>\n",
       "    <tr>\n",
       "      <th>5302</th>\n",
       "      <td>0</td>\n",
       "      <td>0</td>\n",
       "      <td>1</td>\n",
       "      <td>0</td>\n",
       "    </tr>\n",
       "    <tr>\n",
       "      <th>5303</th>\n",
       "      <td>0</td>\n",
       "      <td>0</td>\n",
       "      <td>1</td>\n",
       "      <td>1</td>\n",
       "    </tr>\n",
       "  </tbody>\n",
       "</table>\n",
       "<p>5304 rows × 4 columns</p>\n",
       "</div>"
      ],
      "text/plain": [
       "      koi_fpflag_nt  koi_fpflag_ss  koi_fpflag_co  koi_fpflag_ec\n",
       "0                 0              0              0              0\n",
       "1                 0              1              0              0\n",
       "2                 0              1              0              0\n",
       "3                 0              0              0              0\n",
       "4                 0              0              0              0\n",
       "...             ...            ...            ...            ...\n",
       "5299              0              1              0              0\n",
       "5300              0              0              0              1\n",
       "5301              0              1              1              0\n",
       "5302              0              0              1              0\n",
       "5303              0              0              1              1\n",
       "\n",
       "[5304 rows x 4 columns]"
      ]
     },
     "metadata": {},
     "output_type": "display_data"
    },
    {
     "data": {
      "text/html": [
       "<div>\n",
       "<style scoped>\n",
       "    .dataframe tbody tr th:only-of-type {\n",
       "        vertical-align: middle;\n",
       "    }\n",
       "\n",
       "    .dataframe tbody tr th {\n",
       "        vertical-align: top;\n",
       "    }\n",
       "\n",
       "    .dataframe thead th {\n",
       "        text-align: right;\n",
       "    }\n",
       "</style>\n",
       "<table border=\"1\" class=\"dataframe\">\n",
       "  <thead>\n",
       "    <tr style=\"text-align: right;\">\n",
       "      <th></th>\n",
       "      <th>koi_disposition</th>\n",
       "    </tr>\n",
       "  </thead>\n",
       "  <tbody>\n",
       "    <tr>\n",
       "      <th>0</th>\n",
       "      <td>1</td>\n",
       "    </tr>\n",
       "    <tr>\n",
       "      <th>1</th>\n",
       "      <td>0</td>\n",
       "    </tr>\n",
       "    <tr>\n",
       "      <th>2</th>\n",
       "      <td>0</td>\n",
       "    </tr>\n",
       "    <tr>\n",
       "      <th>3</th>\n",
       "      <td>1</td>\n",
       "    </tr>\n",
       "    <tr>\n",
       "      <th>4</th>\n",
       "      <td>1</td>\n",
       "    </tr>\n",
       "    <tr>\n",
       "      <th>...</th>\n",
       "      <td>...</td>\n",
       "    </tr>\n",
       "    <tr>\n",
       "      <th>5299</th>\n",
       "      <td>0</td>\n",
       "    </tr>\n",
       "    <tr>\n",
       "      <th>5300</th>\n",
       "      <td>0</td>\n",
       "    </tr>\n",
       "    <tr>\n",
       "      <th>5301</th>\n",
       "      <td>0</td>\n",
       "    </tr>\n",
       "    <tr>\n",
       "      <th>5302</th>\n",
       "      <td>0</td>\n",
       "    </tr>\n",
       "    <tr>\n",
       "      <th>5303</th>\n",
       "      <td>0</td>\n",
       "    </tr>\n",
       "  </tbody>\n",
       "</table>\n",
       "<p>5304 rows × 1 columns</p>\n",
       "</div>"
      ],
      "text/plain": [
       "      koi_disposition\n",
       "0                   1\n",
       "1                   0\n",
       "2                   0\n",
       "3                   1\n",
       "4                   1\n",
       "...               ...\n",
       "5299                0\n",
       "5300                0\n",
       "5301                0\n",
       "5302                0\n",
       "5303                0\n",
       "\n",
       "[5304 rows x 1 columns]"
      ]
     },
     "metadata": {},
     "output_type": "display_data"
    }
   ],
   "source": [
    "display(flags_exoplanet_data)\n",
    "display(flags_exoplanet_labels)"
   ]
  },
  {
   "cell_type": "code",
   "execution_count": 5,
   "id": "68ea4c59-fba4-48ab-9afb-12ad11d7a36f",
   "metadata": {},
   "outputs": [
    {
     "name": "stdout",
     "output_type": "stream",
     "text": [
      "(3978, 4)\n",
      "(3978, 1)\n",
      "(1326, 4)\n",
      "(1326, 1)\n"
     ]
    }
   ],
   "source": [
    "# Split the data into training and validation sets\n",
    "training_data, validation_data, \\\n",
    "training_labels, validation_labels = train_test_split(\n",
    "    flags_exoplanet_data,\n",
    "    flags_exoplanet_labels,\n",
    "    random_state=1\n",
    ")\n",
    "\n",
    "print(training_data.shape)\n",
    "print(training_labels.shape)\n",
    "print(validation_data.shape)\n",
    "print(validation_labels.shape)"
   ]
  },
  {
   "cell_type": "code",
   "execution_count": 20,
   "id": "1891f7d1-76b2-4d30-9b3d-ba65400406dc",
   "metadata": {},
   "outputs": [],
   "source": [
    "# build and compile the neural network\n",
    "model = tf.keras.models.Sequential([\n",
    "    tf.keras.layers.Dense(16, activation = 'relu',input_dim=4),\n",
    "    tf.keras.layers.Dense(16, activation = 'relu'),\n",
    "    tf.keras.layers.Dense(1, activation = 'sigmoid')\n",
    "])\n",
    "\n",
    "model.compile(\n",
    "    optimizer = Adam(learning_rate=.08),\n",
    "    loss = 'binary_crossentropy',\n",
    "    metrics = ['accuracy'])\n",
    "\n"
   ]
  },
  {
   "cell_type": "code",
   "execution_count": 21,
   "id": "807b6259-2a4b-4c75-ac67-12492d69788f",
   "metadata": {},
   "outputs": [
    {
     "name": "stdout",
     "output_type": "stream",
     "text": [
      "Epoch 1/5\n",
      "40/40 [==============================] - 0s 4ms/step - loss: 0.2170 - accuracy: 0.9223 - val_loss: 0.0832 - val_accuracy: 0.9932\n",
      "Epoch 2/5\n",
      "40/40 [==============================] - 0s 1ms/step - loss: 0.0853 - accuracy: 0.9894 - val_loss: 0.0656 - val_accuracy: 0.9932\n",
      "Epoch 3/5\n",
      "40/40 [==============================] - 0s 1ms/step - loss: 0.0755 - accuracy: 0.9894 - val_loss: 0.0460 - val_accuracy: 0.9932\n",
      "Epoch 4/5\n",
      "40/40 [==============================] - 0s 1ms/step - loss: 0.0774 - accuracy: 0.9894 - val_loss: 0.0457 - val_accuracy: 0.9932\n",
      "Epoch 5/5\n",
      "40/40 [==============================] - 0s 1ms/step - loss: 0.0663 - accuracy: 0.9894 - val_loss: 0.0774 - val_accuracy: 0.9932\n"
     ]
    }
   ],
   "source": [
    "history = model.fit(\n",
    "    training_data,\n",
    "    training_labels,\n",
    "    validation_data = (validation_data, validation_labels),\n",
    "    epochs=5,\n",
    "    batch_size=100)"
   ]
  },
  {
   "cell_type": "code",
   "execution_count": 22,
   "id": "bb8571e5-7ff7-4b65-ba52-4d1d6455f8f8",
   "metadata": {},
   "outputs": [
    {
     "data": {
      "image/png": "[encoded data removed]",
      "text/plain": [
       "<Figure size 432x288 with 1 Axes>"
      ]
     },
     "metadata": {
      "needs_background": "light"
     },
     "output_type": "display_data"
    },
    {
     "data": {
      "image/png": "[encoded data removed]",
      "text/plain": [
       "<Figure size 432x288 with 1 Axes>"
      ]
     },
     "metadata": {
      "needs_background": "light"
     },
     "output_type": "display_data"
    }
   ],
   "source": [
    "plot_training(history, 'accuracy')\n",
    "plot_training(history, 'loss')"
   ]
  },
  {
   "cell_type": "raw",
   "id": "fc822600-a6bf-4973-8d84-7e33e38003c0",
   "metadata": {},
   "source": []
  }
 ],
 "metadata": {
  "kernelspec": {
   "display_name": "Python 3",
   "language": "python",
   "name": "python3"
  },
  "language_info": {
   "codemirror_mode": {
    "name": "ipython",
    "version": 3
   },
   "file_extension": ".py",
   "mimetype": "text/x-python",
   "name": "python",
   "nbconvert_exporter": "python",
   "pygments_lexer": "ipython3",
   "version": "3.8.10"
  }
 },
 "nbformat": 4,
 "nbformat_minor": 5
}
